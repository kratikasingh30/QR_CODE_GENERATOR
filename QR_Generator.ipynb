{
 "cells": [
  {
   "cell_type": "code",
   "execution_count": 1,
   "id": "fda2e330-9722-41dc-accf-56f0b42b4e48",
   "metadata": {},
   "outputs": [],
   "source": [
    "import qrcode as qr"
   ]
  },
  {
   "cell_type": "code",
   "execution_count": 2,
   "id": "21b14b75-bdcf-4b2b-b3a9-ddc95382ea0b",
   "metadata": {},
   "outputs": [],
   "source": [
    "img = qr.make(\"https://www.linkedin.com/in/kratika-singh-3268a5249/\")\n",
    "img.save(\"Kratika_LinkedIn.png\")"
   ]
  },
  {
   "cell_type": "code",
   "execution_count": null,
   "id": "c4979acc-a038-4ad2-9f01-19ea5623e9ff",
   "metadata": {},
   "outputs": [],
   "source": []
  }
 ],
 "metadata": {
  "kernelspec": {
   "display_name": "Python 3 (ipykernel)",
   "language": "python",
   "name": "python3"
  },
  "language_info": {
   "codemirror_mode": {
    "name": "ipython",
    "version": 3
   },
   "file_extension": ".py",
   "mimetype": "text/x-python",
   "name": "python",
   "nbconvert_exporter": "python",
   "pygments_lexer": "ipython3",
   "version": "3.12.3"
  }
 },
 "nbformat": 4,
 "nbformat_minor": 5
}

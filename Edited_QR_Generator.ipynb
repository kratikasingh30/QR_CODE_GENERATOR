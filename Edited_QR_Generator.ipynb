{
 "cells": [
  {
   "cell_type": "code",
   "execution_count": 1,
   "id": "2d007051-7d5c-446c-8a58-8cbb2795eda1",
   "metadata": {},
   "outputs": [],
   "source": [
    "import qrcode"
   ]
  },
  {
   "cell_type": "code",
   "execution_count": 2,
   "id": "a120d70d-1e62-4dc7-a480-8193c4e9a044",
   "metadata": {},
   "outputs": [],
   "source": [
    "from PIL import Image"
   ]
  },
  {
   "cell_type": "code",
   "execution_count": 7,
   "id": "d5e41797-800a-4b57-ac1e-57bae1f73971",
   "metadata": {},
   "outputs": [],
   "source": [
    "qr = qrcode.QRCode(version=1,\n",
    "                  error_correction=qrcode.constants.ERROR_CORRECT_H,\n",
    "                  box_size=10,border=4,)\n",
    "qr.add_data(\"https://www.linkedin.com/in/kratika-singh-3268a5249/\")\n",
    "qr.make(fit=True)\n",
    "img = qr.make_image(fill_color=\"red\",back_color=\"blue\")\n",
    "img.save(\"Kratikas_LinkedIn.png\")"
   ]
  },
  {
   "cell_type": "code",
   "execution_count": null,
   "id": "fd4d9dfc-3e45-4503-b065-d9aef5d1e5d7",
   "metadata": {},
   "outputs": [],
   "source": []
  }
 ],
 "metadata": {
  "kernelspec": {
   "display_name": "Python 3 (ipykernel)",
   "language": "python",
   "name": "python3"
  },
  "language_info": {
   "codemirror_mode": {
    "name": "ipython",
    "version": 3
   },
   "file_extension": ".py",
   "mimetype": "text/x-python",
   "name": "python",
   "nbconvert_exporter": "python",
   "pygments_lexer": "ipython3",
   "version": "3.12.3"
  }
 },
 "nbformat": 4,
 "nbformat_minor": 5
}
